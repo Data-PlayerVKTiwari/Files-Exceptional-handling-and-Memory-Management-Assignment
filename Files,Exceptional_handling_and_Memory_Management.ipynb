{
  "nbformat": 4,
  "nbformat_minor": 0,
  "metadata": {
    "colab": {
      "provenance": []
    },
    "kernelspec": {
      "name": "python3",
      "display_name": "Python 3"
    },
    "language_info": {
      "name": "python"
    }
  },
  "cells": [
    {
      "cell_type": "markdown",
      "source": [
        "# Files,Exceptional handling and Memory Management Assignment\n"
      ],
      "metadata": {
        "id": "tYY-90yhh9tE"
      }
    },
    {
      "cell_type": "markdown",
      "source": [
        "# Theory Questions"
      ],
      "metadata": {
        "id": "5Eik6grbiF-q"
      }
    },
    {
      "cell_type": "markdown",
      "source": [
        "1. What is the difference between interpreted and compiled languages?     \n",
        "   - Interpreted languages (like Python) are executed line by line by an interpreter, which translates and runs the code simultaneously. They are generally more flexible but slower. Compiled languages (like C++) are first translated entirely into machine code by a compiler before execution, which makes them faster to run but less flexible during development.\n",
        "\n",
        "2. What is exception handling in Python?\n",
        "   - Exception handling is a programming mechanism to manage and respond to errors that occur during a program's execution. It prevents the program from crashing and allows for graceful error recovery. In Python, you use a try...except block for this.\n",
        "\n",
        "3. What is the purpose of the finally block in exception handling?\n",
        "   - The finally block contains code that will be executed regardless of whether an exception occurred in the try block. It is typically used for cleanup tasks like closing files or releasing resources to ensure they are always handled properly.\n",
        "\n",
        "4. What is logging in Python?\n",
        "   - Logging is the process of recording events that occur while a program is running. These events are stored in a file or displayed on the console and are essential for debugging, monitoring, and understanding the behavior of an application.\n",
        "\n",
        "5. What is the significance of the __del__ method in Python?\n",
        "   - The __del__ method is a special destructor method that gets called when an object is about to be destroyed. It is used for cleanup tasks associated with an object, but its use is generally discouraged because its execution time is not guaranteed.\n",
        "\n",
        "6. What is the difference between import and from...import in Python?\n",
        "   - import module: Imports the entire module, requiring you to use the module name to access its contents (e.g., math.sqrt()).\n",
        "   - from module import item: Imports only a specific item from a module, allowing you to use it directly without the module name prefix (e.g., sqrt()).\n",
        "\n",
        "7. How can you handle multiple exceptions in Python?\n",
        "   - You can handle multiple exceptions by using multiple except blocks for different error types or by using a single except block with a tuple of exception types, for example, except (ValueError, TypeError):.\n",
        "\n",
        "8. What is the purpose of the with statement when handling files in Python?\n",
        "   - The with statement simplifies file handling by ensuring that a file is automatically closed after its block of code is executed, even if an error occurs. This is the recommended and safest way to work with files.\n",
        "\n",
        "9. What is the difference between multithreading and multiprocessing?\n",
        "   - Multithreading runs multiple threads within a single process, sharing the same memory. It's best for I/O-bound tasks (e.g., network requests).\n",
        "   - Multiprocessing runs multiple processes, each with its own memory. It's ideal for CPU-bound tasks (e.g., heavy computations) as it can use multiple CPU cores.\n",
        "\n",
        "10. What are the advantages of using logging in a program?\n",
        "    - Logging provides several advantages, including easier debugging, better monitoring of application performance, and auditing to track program and user events. It gives you a clear record of what happened and when.\n",
        "\n",
        "11. What is memory management in Python?\n",
        "    - Memory management is the process of allocating and de-allocating memory for program objects. Python uses a private heap, where its memory manager handles this automatically through reference counting and a garbage collector to prevent memory leaks.\n",
        "\n",
        "12. What are the basic steps involved in exception handling in Python?\n",
        "    - The basic steps are:\n",
        "      1. try: A block of code is placed here that might cause an error.\n",
        "      2. except: If an error occurs, the program jumps to this block to handle the exception.\n",
        "      3. else (optional): This block runs if no exception occurred in the try block.\n",
        "      4. finally (optional): This block runs no matter what.\n",
        "\n",
        "13. Why is memory management important in Python?\n",
        "    - Proper memory management prevents memory leaks and resource exhaustion, which can degrade performance and cause crashes. By efficiently managing memory, programs run faster and more reliably.\n",
        "\n",
        "14. What is the role of try and except in exception handling?\n",
        "    - The try block holds the code that might raise an exception, while the except block contains the code to handle and respond to the specific exception that was caught. Together, they form the core of Python's exception handling system.\n",
        "\n",
        "15. How does Python's garbage collection system work?\n",
        "    - Python's garbage collection uses reference counting, where each object has a count of how many variables refer to it. When this count drops to zero, the object is deallocated. Python also has a cyclical garbage collector to handle objects that have circular references to each other.\n",
        "\n",
        "16. What is the purpose of the else block in exception handling?\n",
        "    - The else block executes only if the try block completes without any exceptions. It is useful for code that should run only upon successful completion of the try block.\n",
        "\n",
        "17. What are the common logging levels in Python?\n",
        "    - The common logging levels, from least to most severe, are:\n",
        "      DEBUG: Detailed diagnostic information.\n",
        "      INFO: General information about program progress.\n",
        "      WARNING: An indication of a potential problem.\n",
        "      ERROR: A serious error that prevented a function from completing.CRITICAL: A very severe error that might cause the program to stop.\n",
        "\n",
        "18. What is the difference between os.fork() and multiprocessing in Python?\n",
        "    - os.fork() is a low-level, Unix-specific system call for creating a new process.\n",
        "    - multiprocessing is a high-level, cross-platform module that provides a portable way to create and manage processes on any operating system.\n",
        "\n",
        "19. What is the importance of closing a file in Python?\n",
        "    - Closing a file is important to release system resources and ensure data is saved from the buffer to the disk, preventing data corruption and resource leaks. The with statement handles this automatically.\n",
        "\n",
        "20. What is the difference between file.read() and file.readline() in Python?\n",
        "    - file.read() reads the entire file content into a single string. It's simple but can be memory-intensive for large files.\n",
        "    - file.readline() reads only a single line from the file at a time, making it more memory-efficient for processing large files line by line.\n",
        "\n",
        "21. What is the logging module in Python used for?\n",
        "    - The logging module is Python's standard library for generating, controlling, and managing log messages. It provides a flexible framework for directing logs to different destinations (e.g., console, file) and setting log levels.\n",
        "\n",
        "22. What is the os module in Python used for in file handling?\n",
        "    - The os module provides a way to interact with the operating system, including tasks related to file paths, directories, and permissions. It's used for operations beyond just reading or writing file content, such as creating folders, renaming files, or checking file existence.\n",
        "\n",
        "23. What are the challenges associated with memory management in Python?\n",
        "    - Challenges include memory leaks (failing to release memory), circular references (objects that refer to each other and are not properly garbage collected), and memory fragmentation (memory being split into small, unusable chunks).\n",
        "\n",
        "24. How do you raise an exception manually in Python?\n",
        "    - You can raise an exception manually using the raise keyword, followed by the name of the exception and an optional message. For example, raise ValueError(\"Invalid value provided.\").\n",
        "\n",
        "25. Why is it important to use multithreading in certain applications?\n",
        "    - Multithreading is crucial for I/O-bound applications because it allows a program to remain responsive and continue executing other tasks while waiting for slow operations, like network requests or database queries, to complete. This prevents the program from being blocked."
      ],
      "metadata": {
        "id": "nIkFmSIljShJ"
      }
    },
    {
      "cell_type": "markdown",
      "source": [
        "# Practical Questions"
      ],
      "metadata": {
        "id": "K_9y2k4Ak81R"
      }
    },
    {
      "cell_type": "code",
      "execution_count": 32,
      "metadata": {
        "id": "_U-p6d0_haI_"
      },
      "outputs": [],
      "source": [
        "# 1. How can you open a file for writing in Python and write a string to it?\n",
        "\n",
        "with open(\"example.txt\", \"w\") as f:\n",
        "    f.write(\"Hello, Python!\")"
      ]
    },
    {
      "cell_type": "code",
      "source": [
        "# 2. Write a Python program to read the contents of a file and print each line.\n",
        "\n",
        "with open(\"example.txt\", \"r\") as f:\n",
        "    for line in f:\n",
        "        print(line.strip())"
      ],
      "metadata": {
        "colab": {
          "base_uri": "https://localhost:8080/"
        },
        "id": "nDT-tdkxmUKl",
        "outputId": "7305dd7d-78da-48c1-c452-85d876560154"
      },
      "execution_count": 31,
      "outputs": [
        {
          "output_type": "stream",
          "name": "stdout",
          "text": [
            "Hello, Python!\n",
            "New line appended.\n"
          ]
        }
      ]
    },
    {
      "cell_type": "code",
      "source": [
        "# 3. How would you handle a case where the file doesn’t exist while trying to open it for reading?\n",
        "\n",
        "try:\n",
        "    with open(\"nofile.txt\", \"r\") as f:\n",
        "        print(f.read())\n",
        "except FileNotFoundError:\n",
        "    print(\"File not found!\")"
      ],
      "metadata": {
        "colab": {
          "base_uri": "https://localhost:8080/"
        },
        "id": "sXsf40itmXwq",
        "outputId": "bd4b5cfb-b4e9-4804-c786-b9aab438d8b6"
      },
      "execution_count": 3,
      "outputs": [
        {
          "output_type": "stream",
          "name": "stdout",
          "text": [
            "File not found!\n"
          ]
        }
      ]
    },
    {
      "cell_type": "code",
      "source": [
        "# 4. Write a Python script that reads from one file and writes its content to another file.\n",
        "\n",
        "with open(\"input_file.txt\", \"w\") as f:\n",
        "    f.write(\"Hello, this is a sample file.\\n\")\n",
        "    f.write(\"We are copying its content to another file.\\n\")\n",
        "    f.write(\"File handling in Python is easy!\\n\")\n",
        "\n",
        "with open(\"input_file.txt\", \"r\") as infile:\n",
        "    content = infile.read()\n",
        "\n",
        "with open(\"output_file.txt\", \"w\") as outfile:\n",
        "    outfile.write(content)\n",
        "\n",
        "print(\"File copied successfully!\")\n",
        "\n",
        "with open(\"output_file.txt\", \"r\") as f:\n",
        "    print(\"\\nContent of output_file.txt:\")\n",
        "    print(f.read())\n"
      ],
      "metadata": {
        "colab": {
          "base_uri": "https://localhost:8080/"
        },
        "id": "Vnox8qG5mcOv",
        "outputId": "211f8938-2358-4b09-e291-0aaa05779007"
      },
      "execution_count": 34,
      "outputs": [
        {
          "output_type": "stream",
          "name": "stdout",
          "text": [
            "File copied successfully!\n",
            "\n",
            "Content of output_file.txt:\n",
            "Hello, this is a sample file.\n",
            "We are copying its content to another file.\n",
            "File handling in Python is easy!\n",
            "\n"
          ]
        }
      ]
    },
    {
      "cell_type": "code",
      "source": [
        "# 5. How would you catch and handle division by zero error in Python?\n",
        "\n",
        "try:\n",
        "    result = 10 / 0\n",
        "except ZeroDivisionError:\n",
        "    print(\"Division by zero error!\")"
      ],
      "metadata": {
        "colab": {
          "base_uri": "https://localhost:8080/"
        },
        "id": "vrxMw_TBmf2E",
        "outputId": "ab6bda9f-0cf0-48f5-ce27-904926de8fcb"
      },
      "execution_count": 5,
      "outputs": [
        {
          "output_type": "stream",
          "name": "stdout",
          "text": [
            "Division by zero error!\n"
          ]
        }
      ]
    },
    {
      "cell_type": "code",
      "source": [
        "# 6. Write a Python program that logs an error message when a division by zero occurs.\n",
        "\n",
        "import logging\n",
        "logging.basicConfig(filename=\"app.log\", level=logging.ERROR)\n",
        "try:\n",
        "    result = 5 / 0\n",
        "except ZeroDivisionError:\n",
        "    logging.error(\"Division by zero occurred.\")"
      ],
      "metadata": {
        "colab": {
          "base_uri": "https://localhost:8080/"
        },
        "id": "sLU_SZA0mig0",
        "outputId": "307fe788-0db3-45e4-ef5e-a5a7beedb209"
      },
      "execution_count": 6,
      "outputs": [
        {
          "output_type": "stream",
          "name": "stderr",
          "text": [
            "ERROR:root:Division by zero occurred.\n"
          ]
        }
      ]
    },
    {
      "cell_type": "code",
      "source": [
        "# 7. How do you log information at different levels in Python using logging module?\n",
        "\n",
        "logging.debug(\"Debug message\")\n",
        "logging.info(\"Info message\")\n",
        "logging.warning(\"Warning message\")\n",
        "logging.error(\"Error message\")\n",
        "logging.critical(\"Critical message\")"
      ],
      "metadata": {
        "colab": {
          "base_uri": "https://localhost:8080/"
        },
        "id": "zLqD-EPImmNh",
        "outputId": "fd279697-ef6a-425f-f7d0-bf6735790e84"
      },
      "execution_count": 7,
      "outputs": [
        {
          "output_type": "stream",
          "name": "stderr",
          "text": [
            "WARNING:root:Warning message\n",
            "ERROR:root:Error message\n",
            "CRITICAL:root:Critical message\n"
          ]
        }
      ]
    },
    {
      "cell_type": "code",
      "source": [
        "# 8. Write a program to handle a file opening error using exception handling.\n",
        "\n",
        "try:\n",
        "    f = open(\"missing.txt\", \"r\")\n",
        "except IOError:\n",
        "    print(\"Error opening file!\")"
      ],
      "metadata": {
        "colab": {
          "base_uri": "https://localhost:8080/"
        },
        "id": "FcO0wCEymplW",
        "outputId": "9a3c12e9-57e4-4043-de4f-319e1e945a50"
      },
      "execution_count": 8,
      "outputs": [
        {
          "output_type": "stream",
          "name": "stdout",
          "text": [
            "Error opening file!\n"
          ]
        }
      ]
    },
    {
      "cell_type": "code",
      "source": [
        "# 9. How can you read a file line by line and store its content in a list in Python?\n",
        "\n",
        "with open(\"sample.txt\", \"w\") as f:\n",
        "    f.write(\"Line 1: Hello Python\\n\")\n",
        "    f.write(\"Line 2: File handling is easy\\n\")\n",
        "    f.write(\"Line 3: Reading line by line\\n\")\n",
        "\n",
        "lines_list = []\n",
        "with open(\"sample.txt\", \"r\") as f:\n",
        "    for line in f:\n",
        "        lines_list.append(line.strip())\n",
        "\n",
        "print(\"File content as list:\")\n",
        "print(lines_list)\n"
      ],
      "metadata": {
        "colab": {
          "base_uri": "https://localhost:8080/"
        },
        "id": "i-8KGbUdmxy2",
        "outputId": "c72b58b0-a038-44ac-b06a-af1cc1ce5f83"
      },
      "execution_count": 35,
      "outputs": [
        {
          "output_type": "stream",
          "name": "stdout",
          "text": [
            "File content as list:\n",
            "['Line 1: Hello Python', 'Line 2: File handling is easy', 'Line 3: Reading line by line']\n"
          ]
        }
      ]
    },
    {
      "cell_type": "code",
      "source": [
        "# 10. How can you append data to an existing file in Python?\n",
        "\n",
        "with open(\"append_example.txt\", \"w\") as f:\n",
        "    f.write(\"This is the first line.\\n\")\n",
        "\n",
        "# Now open the file in append mode and add new data\n",
        "with open(\"append_example.txt\", \"a\") as f:\n",
        "    f.write(\"This line is appended.\\n\")\n",
        "    f.write(\"Appending means adding data without overwriting.\\n\")\n",
        "\n",
        "# Read the file again to verify\n",
        "with open(\"append_example.txt\", \"r\") as f:\n",
        "    print(f.read())"
      ],
      "metadata": {
        "colab": {
          "base_uri": "https://localhost:8080/"
        },
        "id": "Lkq4WRJSm0m9",
        "outputId": "b1317a69-e5c7-4cd7-93ce-5f788f87fc55"
      },
      "execution_count": 36,
      "outputs": [
        {
          "output_type": "stream",
          "name": "stdout",
          "text": [
            "This is the first line.\n",
            "This line is appended.\n",
            "Appending means adding data without overwriting.\n",
            "\n"
          ]
        }
      ]
    },
    {
      "cell_type": "code",
      "source": [
        "# 11. Write a Python program that uses try-except block for missing dictionary key.\n",
        "\n",
        "data = {\"a\": 1}\n",
        "try:\n",
        "    print(data[\"b\"])\n",
        "except KeyError:\n",
        "    print(\"Key not found!\")"
      ],
      "metadata": {
        "colab": {
          "base_uri": "https://localhost:8080/"
        },
        "id": "u0VYjBFbm4Qi",
        "outputId": "ffcc8442-4258-4c6c-8cc5-b69ed4efd399"
      },
      "execution_count": 11,
      "outputs": [
        {
          "output_type": "stream",
          "name": "stdout",
          "text": [
            "Key not found!\n"
          ]
        }
      ]
    },
    {
      "cell_type": "code",
      "source": [
        "# 12. Write a program with multiple except blocks for different exceptions.\n",
        "\n",
        "try:\n",
        "    num = int(\"abc\")\n",
        "except ValueError:\n",
        "    print(\"Value error!\")\n",
        "except TypeError:\n",
        "    print(\"Type error!\")"
      ],
      "metadata": {
        "colab": {
          "base_uri": "https://localhost:8080/"
        },
        "id": "jXVjzR3Pm8CM",
        "outputId": "0f5194d5-96e1-4b42-faec-a668cd198164"
      },
      "execution_count": 12,
      "outputs": [
        {
          "output_type": "stream",
          "name": "stdout",
          "text": [
            "Value error!\n"
          ]
        }
      ]
    },
    {
      "cell_type": "code",
      "source": [
        "# 13. How would you check if a file exists before attempting to read it?\n",
        "\n",
        "import os\n",
        "if os.path.exists(\"example.txt\"):\n",
        "    print(\"File exists\")"
      ],
      "metadata": {
        "colab": {
          "base_uri": "https://localhost:8080/"
        },
        "id": "pKBwOhJSm_In",
        "outputId": "28ed36d0-00ac-45ef-9a81-3f7bec96421c"
      },
      "execution_count": 13,
      "outputs": [
        {
          "output_type": "stream",
          "name": "stdout",
          "text": [
            "File exists\n"
          ]
        }
      ]
    },
    {
      "cell_type": "code",
      "source": [
        "# 14. Write a program that uses logging to log info and error messages.\n",
        "\n",
        "logging.info(\"Program started\")\n",
        "try:\n",
        "    x = 10 / 0\n",
        "except ZeroDivisionError:\n",
        "    logging.error(\"Division error\")\n"
      ],
      "metadata": {
        "colab": {
          "base_uri": "https://localhost:8080/"
        },
        "id": "3R3shC_rnDrm",
        "outputId": "a0fb6a53-7a62-4219-df34-774005bcc36b"
      },
      "execution_count": 14,
      "outputs": [
        {
          "output_type": "stream",
          "name": "stderr",
          "text": [
            "ERROR:root:Division error\n"
          ]
        }
      ]
    },
    {
      "cell_type": "code",
      "source": [
        "# 15. Write a Python program that prints file content and handles empty file case.\n",
        "\n",
        "def print_file_content(filename):\n",
        "    try:\n",
        "        with open(filename, \"r\") as f:\n",
        "            content = f.read()\n",
        "            if content.strip() == \"\":\n",
        "                print(\"The file is empty.\")\n",
        "            else:\n",
        "                print(\"File Content:\\n\")\n",
        "                print(content)\n",
        "    except FileNotFoundError:\n",
        "        print(f\"Error: The file '{filename}' does not exist.\")\n",
        "\n",
        "open(\"empty_file.txt\", \"w\").close()\n",
        "\n",
        "with open(\"sample_file.txt\", \"w\") as f:\n",
        "    f.write(\"Hello Vaibhav!\\nThis file has some text.\")\n",
        "\n",
        "print(\"Testing empty file:\\n\")\n",
        "print_file_content(\"empty_file.txt\")\n",
        "\n",
        "print(\"\\nTesting non-empty file:\\n\")\n",
        "\n",
        "print_file_content(\"sample_file.txt\")\n"
      ],
      "metadata": {
        "colab": {
          "base_uri": "https://localhost:8080/"
        },
        "id": "N3y0NePRnGzs",
        "outputId": "249a7633-77d5-4508-a518-dd560be11240"
      },
      "execution_count": 37,
      "outputs": [
        {
          "output_type": "stream",
          "name": "stdout",
          "text": [
            "Testing empty file:\n",
            "\n",
            "The file is empty.\n",
            "\n",
            "Testing non-empty file:\n",
            "\n",
            "File Content:\n",
            "\n",
            "Hello Vaibhav!\n",
            "This file has some text.\n"
          ]
        }
      ]
    },
    {
      "cell_type": "code",
      "source": [
        "# 16. Demonstrate how to use memory profiling to check memory usage of a small program\n",
        "\n",
        "!pip install memory_profiler\n",
        "\n",
        "from memory_profiler import profile\n",
        "\n",
        "\n",
        "@profile\n",
        "def create_large_list():\n",
        "    nums = [i for i in range(1, 1000000)]\n",
        "    print(\"List created with length:\", len(nums))\n",
        "    return nums\n",
        "\n",
        "if __name__ == \"__main__\":\n",
        "    create_large_list()\n",
        "\n"
      ],
      "metadata": {
        "colab": {
          "base_uri": "https://localhost:8080/"
        },
        "id": "t1LbccDknKfq",
        "outputId": "3a795312-e3bf-4d67-bf7d-af2e6190f6c7"
      },
      "execution_count": 38,
      "outputs": [
        {
          "output_type": "stream",
          "name": "stdout",
          "text": [
            "Requirement already satisfied: memory_profiler in /usr/local/lib/python3.12/dist-packages (0.61.0)\n",
            "Requirement already satisfied: psutil in /usr/local/lib/python3.12/dist-packages (from memory_profiler) (5.9.5)\n",
            "ERROR: Could not find file /tmp/ipython-input-1042809337.py\n",
            "List created with length: 999999\n"
          ]
        }
      ]
    },
    {
      "cell_type": "code",
      "source": [
        "# 17. Write a Python program to create and write a list of numbers to a file.\n",
        "\n",
        "\n",
        "numbers = [10, 20, 30, 40, 50]\n",
        "\n",
        "with open(\"numbers.txt\", \"w\") as file:\n",
        "  for num in numbers:\n",
        "    file.write(str(num) + \"\\n\")\n",
        "\n",
        "print(\"Numbers have been written to numbers.txt successfully.\")\n"
      ],
      "metadata": {
        "colab": {
          "base_uri": "https://localhost:8080/"
        },
        "id": "sHYdIe3tnXkw",
        "outputId": "fbe5d47f-be74-4b08-8134-2ae267f05a8a"
      },
      "execution_count": 40,
      "outputs": [
        {
          "output_type": "stream",
          "name": "stdout",
          "text": [
            "Numbers have been written to numbers.txt successfully.\n"
          ]
        }
      ]
    },
    {
      "cell_type": "code",
      "source": [
        "# 18. How would you implement a basic logging setup with log rotation after 1MB?\n",
        "\n",
        "from logging.handlers import RotatingFileHandler\n",
        "handler = RotatingFileHandler(\"rotating.log\", maxBytes=1000000, backupCount=3)\n",
        "logger = logging.getLogger(\"test_logger\")\n",
        "logger.addHandler(handler)\n",
        "logger.setLevel(logging.INFO)\n",
        "logger.info(\"Logging with rotation\")"
      ],
      "metadata": {
        "colab": {
          "base_uri": "https://localhost:8080/"
        },
        "id": "xL15lvPOxjX_",
        "outputId": "b2ca401c-6931-4147-e93a-33caaac89eb8"
      },
      "execution_count": 25,
      "outputs": [
        {
          "output_type": "stream",
          "name": "stderr",
          "text": [
            "INFO:test_logger:Logging with rotation\n"
          ]
        }
      ]
    },
    {
      "cell_type": "code",
      "source": [
        "# 19. Write a program that handles both IndexError and KeyError.\n",
        "\n",
        "try:\n",
        "    lst = [1, 2]\n",
        "    print(lst[5])\n",
        "except IndexError:\n",
        "    print(\"Index out of range!\")\n",
        "except KeyError:\n",
        "    print(\"Key not found!\")"
      ],
      "metadata": {
        "colab": {
          "base_uri": "https://localhost:8080/"
        },
        "id": "BnjvkWJRxmmp",
        "outputId": "c20ca680-a095-4b81-90bf-dfa332f53c65"
      },
      "execution_count": 26,
      "outputs": [
        {
          "output_type": "stream",
          "name": "stdout",
          "text": [
            "Index out of range!\n"
          ]
        }
      ]
    },
    {
      "cell_type": "code",
      "source": [
        "# 20. Open a file and read its contents using a context manager\n",
        "\n",
        "with open(\"sample.txt\", \"r\") as file:\n",
        "    content = file.read()\n",
        "\n",
        "print(\"File Contents:\\n\", content)\n"
      ],
      "metadata": {
        "colab": {
          "base_uri": "https://localhost:8080/"
        },
        "id": "HPxjjK0hxp59",
        "outputId": "a68f2d10-91a1-4f6c-c12c-e8a73cde5dd0"
      },
      "execution_count": 41,
      "outputs": [
        {
          "output_type": "stream",
          "name": "stdout",
          "text": [
            "File Contents:\n",
            " Line 1: Hello Python\n",
            "Line 2: File handling is easy\n",
            "Line 3: Reading line by line\n",
            "\n"
          ]
        }
      ]
    },
    {
      "cell_type": "code",
      "source": [
        "# 21. Write a Python program that reads a file and counts occurrences of a word.\n",
        "\n",
        "word = \"Python\"\n",
        "count = 0\n",
        "with open(\"example.txt\", \"r\") as f:\n",
        "    for line in f:\n",
        "        count += line.count(word)\n",
        "print(\"Occurrences:\", count)"
      ],
      "metadata": {
        "colab": {
          "base_uri": "https://localhost:8080/"
        },
        "id": "Lola-2ipxyAi",
        "outputId": "bd5b9d04-43d4-47f0-e1e4-7bcf00f3bfbb"
      },
      "execution_count": 28,
      "outputs": [
        {
          "output_type": "stream",
          "name": "stdout",
          "text": [
            "Occurrences: 1\n"
          ]
        }
      ]
    },
    {
      "cell_type": "code",
      "source": [
        "# 22. How can you check if a file is empty before attempting to read its contents?\n",
        "\n",
        "file_path = \"sample.txt\"\n",
        "\n",
        "with open(file_path, \"r\") as file:\n",
        "    content = file.read().strip()\n",
        "    if not content:\n",
        "        print(\"File is empty!\")\n",
        "    else:\n",
        "        print(\"File Contents:\\n\", content)\n"
      ],
      "metadata": {
        "colab": {
          "base_uri": "https://localhost:8080/"
        },
        "id": "0AieFF5Gx3n2",
        "outputId": "50b06525-2602-4fbd-b786-13842cdb72c7"
      },
      "execution_count": 42,
      "outputs": [
        {
          "output_type": "stream",
          "name": "stdout",
          "text": [
            "File Contents:\n",
            " Line 1: Hello Python\n",
            "Line 2: File handling is easy\n",
            "Line 3: Reading line by line\n"
          ]
        }
      ]
    },
    {
      "cell_type": "code",
      "source": [
        "# 23. Write a Python program that writes to a log file when an error occurs during file handling.\n",
        "\n",
        "import datetime\n",
        "\n",
        "def log_error(message):\n",
        "    \"\"\"Write error message with timestamp into log file\"\"\"\n",
        "    with open(\"error_log.txt\", \"a\") as log_file:\n",
        "        log_file.write(f\"{datetime.datetime.now()} - ERROR: {message}\\n\")\n",
        "\n",
        "def read_file(file_path):\n",
        "    try:\n",
        "        with open(file_path, \"r\") as f:\n",
        "            data = f.read()\n",
        "            print(\"File contents:\\n\", data)\n",
        "    except FileNotFoundError as e:\n",
        "        print(\"Error: File not found!\")\n",
        "        log_error(str(e))\n",
        "    except PermissionError as e:\n",
        "        print(\"Error: Permission denied!\")\n",
        "        log_error(str(e))\n",
        "    except Exception as e:\n",
        "        print(\"An unexpected error occurred!\")\n",
        "        log_error(str(e))\n",
        "\n",
        "read_file(\"non_existing_file.txt\")  # This will generate error and log it\n"
      ],
      "metadata": {
        "colab": {
          "base_uri": "https://localhost:8080/"
        },
        "id": "hNN63Nkox-EO",
        "outputId": "00a6f087-52e7-4901-a96f-40618d8eb03e"
      },
      "execution_count": 43,
      "outputs": [
        {
          "output_type": "stream",
          "name": "stdout",
          "text": [
            "Error: File not found!\n"
          ]
        }
      ]
    }
  ]
}